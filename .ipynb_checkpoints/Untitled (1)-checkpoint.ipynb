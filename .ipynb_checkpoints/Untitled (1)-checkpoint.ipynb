{
 "cells": [
  {
   "cell_type": "code",
   "execution_count": 3,
   "id": "5ad213ea-14e1-4a5c-80df-4beaefe2721d",
   "metadata": {},
   "outputs": [],
   "source": [
    "#!pip install beautifulsoup4\n",
    "#!pip install lxml\n",
    "#!pip install selenium"
   ]
  },
  {
   "cell_type": "code",
   "execution_count": 3,
   "id": "b884f725-d570-4913-943a-6faa78c30d58",
   "metadata": {},
   "outputs": [],
   "source": [
    "# Setup libraries\n",
    "import re\n",
    "import requests\n",
    "import numpy as np\n",
    "from bs4 import BeautifulSoup\n",
    "from time import sleep\n",
    "import pandas as pd\n",
    "from itertools import product\n",
    "#from selenium import webdriver\n"
   ]
  },
  {
   "cell_type": "markdown",
   "id": "85a51181-1be9-46a6-96cd-bbd95b752b7e",
   "metadata": {},
   "source": [
    "### Business ID"
   ]
  },
  {
   "cell_type": "code",
   "execution_count": 4,
   "id": "39a1d631-ea46-4416-ba44-7865187c7fd9",
   "metadata": {},
   "outputs": [],
   "source": [
    "# Credentials: key, url, headers\n",
    "url = 'https://api.yelp.com/v3/businesses/search'\n",
    "key = '86JrysBSZm5dVt_fXsmiXt-McrSLtJTZrHfkS100eu1oQXHa9FiU2vgxAKfzStjVfxSzEfzyU6LztpX7O-oxlG6sMTynmRu1Ych_6bv44vCtRoVj-uUqZNwCvEkHYnYx'\n",
    "headers = {\n",
    "    'Authorization': 'Bearer %s' % key\n",
    "}   "
   ]
  },
  {
   "cell_type": "code",
   "execution_count": 5,
   "id": "d7c8d549-e395-4829-a610-b9590517f75a",
   "metadata": {},
   "outputs": [
    {
     "data": {
      "text/plain": [
       "{'businesses': [{'id': 'y1MtLFNnwjYXnTb8BLWmIA',\n",
       "   'alias': 'gardens-by-the-bay-singapore-3',\n",
       "   'name': 'Gardens By The Bay',\n",
       "   'image_url': 'https://s3-media2.fl.yelpcdn.com/bphoto/qT8KatwbuJJvqrRJP4gmzw/o.jpg',\n",
       "   'is_closed': False,\n",
       "   'url': 'https://www.yelp.com/biz/gardens-by-the-bay-singapore-3?adjust_creative=BZk4goFwsHVftxBLhzc3Ow&utm_campaign=yelp_api_v3&utm_medium=api_v3_business_search&utm_source=BZk4goFwsHVftxBLhzc3Ow',\n",
       "   'review_count': 371,\n",
       "   'categories': [{'alias': 'gardens', 'title': 'Botanical Gardens'}],\n",
       "   'rating': 4.5,\n",
       "   'coordinates': {'latitude': 1.2819557431013, 'longitude': 103.863890469074},\n",
       "   'transactions': [],\n",
       "   'location': {'address1': '18 Marina Gardens Dr',\n",
       "    'address2': '',\n",
       "    'address3': None,\n",
       "    'city': 'Singapore',\n",
       "    'zip_code': '018953',\n",
       "    'country': 'SG',\n",
       "    'state': 'SG',\n",
       "    'display_address': ['18 Marina Gardens Dr',\n",
       "     'Singapore 018953',\n",
       "     'Singapore']},\n",
       "   'phone': '+6564206848',\n",
       "   'display_phone': '+65 6420 6848',\n",
       "   'distance': 3377.9411697347487},\n",
       "  {'id': 'fY1IkBnRft1KR0O2tqu7pg',\n",
       "   'alias': 'tian-tian-hainanese-chicken-rice-singapore-7',\n",
       "   'name': 'Tian Tian Hainanese Chicken Rice',\n",
       "   'image_url': 'https://s3-media3.fl.yelpcdn.com/bphoto/p295N0p6K52CzkmBOxx73w/o.jpg',\n",
       "   'is_closed': False,\n",
       "   'url': 'https://www.yelp.com/biz/tian-tian-hainanese-chicken-rice-singapore-7?adjust_creative=BZk4goFwsHVftxBLhzc3Ow&utm_campaign=yelp_api_v3&utm_medium=api_v3_business_search&utm_source=BZk4goFwsHVftxBLhzc3Ow',\n",
       "   'review_count': 378,\n",
       "   'categories': [{'alias': 'hainan', 'title': 'Hainan'},\n",
       "    {'alias': 'chickenshop', 'title': 'Chicken Shop'}],\n",
       "   'rating': 4.0,\n",
       "   'coordinates': {'latitude': 1.28035, 'longitude': 103.84472},\n",
       "   'transactions': [],\n",
       "   'price': '$',\n",
       "   'location': {'address1': '1 Kadayanallur St',\n",
       "    'address2': '#01 -10/11',\n",
       "    'address3': 'Maxwell Food Center',\n",
       "    'city': 'Singapore',\n",
       "    'zip_code': '069120',\n",
       "    'country': 'SG',\n",
       "    'state': 'SG',\n",
       "    'display_address': ['1 Kadayanallur St',\n",
       "     '#01 -10/11',\n",
       "     'Maxwell Food Center',\n",
       "     'Singapore 069120',\n",
       "     'Singapore']},\n",
       "   'phone': '+6596914852',\n",
       "   'display_phone': '+65 9691 4852',\n",
       "   'distance': 2331.6019305194195},\n",
       "  {'id': 'bjL1PC2e9dvjBVewmoXYwQ',\n",
       "   'alias': 'din-tai-fung-singapore-5',\n",
       "   'name': 'Din Tai Fung',\n",
       "   'image_url': 'https://s3-media2.fl.yelpcdn.com/bphoto/fxsbP8mMJJSZdD1e9P6nFA/o.jpg',\n",
       "   'is_closed': False,\n",
       "   'url': 'https://www.yelp.com/biz/din-tai-fung-singapore-5?adjust_creative=BZk4goFwsHVftxBLhzc3Ow&utm_campaign=yelp_api_v3&utm_medium=api_v3_business_search&utm_source=BZk4goFwsHVftxBLhzc3Ow',\n",
       "   'review_count': 125,\n",
       "   'categories': [{'alias': 'taiwanese', 'title': 'Taiwanese'},\n",
       "    {'alias': 'dimsum', 'title': 'Dim Sum'},\n",
       "    {'alias': 'dumplings', 'title': 'Dumplings'}],\n",
       "   'rating': 4.5,\n",
       "   'coordinates': {'latitude': 1.303999, 'longitude': 103.83318},\n",
       "   'transactions': [],\n",
       "   'price': '$$',\n",
       "   'location': {'address1': '435 Orchard Rd',\n",
       "    'address2': 'Level 4',\n",
       "    'address3': '',\n",
       "    'city': 'Singapore',\n",
       "    'zip_code': '238877',\n",
       "    'country': 'SG',\n",
       "    'state': 'SG',\n",
       "    'display_address': ['435 Orchard Rd',\n",
       "     'Level 4',\n",
       "     'Singapore 238877',\n",
       "     'Singapore']},\n",
       "   'phone': '+6567321383',\n",
       "   'display_phone': '+65 6732 1383',\n",
       "   'distance': 837.2036476110364}],\n",
       " 'total': 7400,\n",
       " 'region': {'center': {'longitude': 103.8399, 'latitude': 1.3006}}}"
      ]
     },
     "execution_count": 5,
     "metadata": {},
     "output_type": "execute_result"
    }
   ],
   "source": [
    "# 1st Scrape:\n",
    "# Define search parameters: location, limit, term, radius\n",
    "parameters = {'latitude': 1.3006,\n",
    "              'longitude' : 103.8399,\n",
    "              'limit': 3,\n",
    "              'radius': 8000\n",
    "              }\n",
    "\n",
    "# Run parameters through response and save json as data\n",
    "response = requests.get(url, headers = headers, params = parameters)\n",
    "data = response.json()\n",
    "data"
   ]
  },
  {
   "cell_type": "markdown",
   "id": "1073297a-183b-4642-8551-4bd0c213a4ec",
   "metadata": {},
   "source": [
    "### Scale Scrape: 2 Locations, Multiple Steps"
   ]
  },
  {
   "cell_type": "code",
   "execution_count": 8,
   "id": "5a28090e-2ea9-45e5-b58c-377cc44efc0e",
   "metadata": {},
   "outputs": [
    {
     "name": "stdout",
     "output_type": "stream",
     "text": [
      "Total Records: 500\n"
     ]
    },
    {
     "data": {
      "text/html": [
       "<div>\n",
       "<style scoped>\n",
       "    .dataframe tbody tr th:only-of-type {\n",
       "        vertical-align: middle;\n",
       "    }\n",
       "\n",
       "    .dataframe tbody tr th {\n",
       "        vertical-align: top;\n",
       "    }\n",
       "\n",
       "    .dataframe thead th {\n",
       "        text-align: right;\n",
       "    }\n",
       "</style>\n",
       "<table border=\"1\" class=\"dataframe\">\n",
       "  <thead>\n",
       "    <tr style=\"text-align: right;\">\n",
       "      <th></th>\n",
       "      <th>id</th>\n",
       "      <th>alias</th>\n",
       "      <th>is_closed</th>\n",
       "      <th>review_count</th>\n",
       "      <th>rating</th>\n",
       "      <th>categories</th>\n",
       "      <th>longitude</th>\n",
       "      <th>latitude</th>\n",
       "      <th>price</th>\n",
       "      <th>address</th>\n",
       "    </tr>\n",
       "    <tr>\n",
       "      <th>name</th>\n",
       "      <th></th>\n",
       "      <th></th>\n",
       "      <th></th>\n",
       "      <th></th>\n",
       "      <th></th>\n",
       "      <th></th>\n",
       "      <th></th>\n",
       "      <th></th>\n",
       "      <th></th>\n",
       "      <th></th>\n",
       "    </tr>\n",
       "  </thead>\n",
       "  <tbody>\n",
       "    <tr>\n",
       "      <th>Ippudo</th>\n",
       "      <td>mnaTW8Wm0ESJXf4qqDtS9A</td>\n",
       "      <td>ippudo-singapore-3</td>\n",
       "      <td>False</td>\n",
       "      <td>79</td>\n",
       "      <td>4.0</td>\n",
       "      <td>[{'alias': 'ramen', 'title': 'Ramen'}]</td>\n",
       "      <td>1.301990</td>\n",
       "      <td>103.836799</td>\n",
       "      <td>$$$</td>\n",
       "      <td>[333A Orchard Rd, 04-02/03/04, Singapore 23889...</td>\n",
       "    </tr>\n",
       "    <tr>\n",
       "      <th>Din Tai Fung</th>\n",
       "      <td>bjL1PC2e9dvjBVewmoXYwQ</td>\n",
       "      <td>din-tai-fung-singapore-5</td>\n",
       "      <td>False</td>\n",
       "      <td>125</td>\n",
       "      <td>4.5</td>\n",
       "      <td>[{'alias': 'taiwanese', 'title': 'Taiwanese'},...</td>\n",
       "      <td>1.303999</td>\n",
       "      <td>103.833180</td>\n",
       "      <td>$$$</td>\n",
       "      <td>[435 Orchard Rd, Level 4, Singapore 238877, Si...</td>\n",
       "    </tr>\n",
       "    <tr>\n",
       "      <th>Killiney Kopitiam</th>\n",
       "      <td>Dn83poKTVhWL3ItLdalmYw</td>\n",
       "      <td>killiney-kopitiam-singapore-4</td>\n",
       "      <td>False</td>\n",
       "      <td>49</td>\n",
       "      <td>4.0</td>\n",
       "      <td>[{'alias': 'breakfast_brunch', 'title': 'Break...</td>\n",
       "      <td>1.298880</td>\n",
       "      <td>103.839401</td>\n",
       "      <td>$$$</td>\n",
       "      <td>[67 Killiney Road, Singapore 239525, Singapore]</td>\n",
       "    </tr>\n",
       "    <tr>\n",
       "      <th>Kazu Sumiyaki</th>\n",
       "      <td>kqlgP7zsdL_uwYgf-94mRQ</td>\n",
       "      <td>kazu-sumiyaki-singapore</td>\n",
       "      <td>False</td>\n",
       "      <td>19</td>\n",
       "      <td>4.5</td>\n",
       "      <td>[{'alias': 'japanese', 'title': 'Japanese'}]</td>\n",
       "      <td>1.302000</td>\n",
       "      <td>103.840721</td>\n",
       "      <td>$$$</td>\n",
       "      <td>[5 Koek Rd, Singapore 228796, Singapore]</td>\n",
       "    </tr>\n",
       "    <tr>\n",
       "      <th>No. 5</th>\n",
       "      <td>gYFGvkgFa8rfeYlJwfZ4zA</td>\n",
       "      <td>no-5-singapore</td>\n",
       "      <td>False</td>\n",
       "      <td>24</td>\n",
       "      <td>4.5</td>\n",
       "      <td>[{'alias': 'bars', 'title': 'Bars'}]</td>\n",
       "      <td>1.301820</td>\n",
       "      <td>103.838928</td>\n",
       "      <td>$$$</td>\n",
       "      <td>[5 Emerald Hill Road, Singapore 229289, Singap...</td>\n",
       "    </tr>\n",
       "  </tbody>\n",
       "</table>\n",
       "</div>"
      ],
      "text/plain": [
       "                                       id                          alias  \\\n",
       "name                                                                       \n",
       "Ippudo             mnaTW8Wm0ESJXf4qqDtS9A             ippudo-singapore-3   \n",
       "Din Tai Fung       bjL1PC2e9dvjBVewmoXYwQ       din-tai-fung-singapore-5   \n",
       "Killiney Kopitiam  Dn83poKTVhWL3ItLdalmYw  killiney-kopitiam-singapore-4   \n",
       "Kazu Sumiyaki      kqlgP7zsdL_uwYgf-94mRQ        kazu-sumiyaki-singapore   \n",
       "No. 5              gYFGvkgFa8rfeYlJwfZ4zA                 no-5-singapore   \n",
       "\n",
       "                   is_closed  review_count  rating  \\\n",
       "name                                                 \n",
       "Ippudo                 False            79     4.0   \n",
       "Din Tai Fung           False           125     4.5   \n",
       "Killiney Kopitiam      False            49     4.0   \n",
       "Kazu Sumiyaki          False            19     4.5   \n",
       "No. 5                  False            24     4.5   \n",
       "\n",
       "                                                          categories  \\\n",
       "name                                                                   \n",
       "Ippudo                        [{'alias': 'ramen', 'title': 'Ramen'}]   \n",
       "Din Tai Fung       [{'alias': 'taiwanese', 'title': 'Taiwanese'},...   \n",
       "Killiney Kopitiam  [{'alias': 'breakfast_brunch', 'title': 'Break...   \n",
       "Kazu Sumiyaki           [{'alias': 'japanese', 'title': 'Japanese'}]   \n",
       "No. 5                           [{'alias': 'bars', 'title': 'Bars'}]   \n",
       "\n",
       "                   longitude    latitude price  \\\n",
       "name                                             \n",
       "Ippudo              1.301990  103.836799   $$$   \n",
       "Din Tai Fung        1.303999  103.833180   $$$   \n",
       "Killiney Kopitiam   1.298880  103.839401   $$$   \n",
       "Kazu Sumiyaki       1.302000  103.840721   $$$   \n",
       "No. 5               1.301820  103.838928   $$$   \n",
       "\n",
       "                                                             address  \n",
       "name                                                                  \n",
       "Ippudo             [333A Orchard Rd, 04-02/03/04, Singapore 23889...  \n",
       "Din Tai Fung       [435 Orchard Rd, Level 4, Singapore 238877, Si...  \n",
       "Killiney Kopitiam    [67 Killiney Road, Singapore 239525, Singapore]  \n",
       "Kazu Sumiyaki               [5 Koek Rd, Singapore 228796, Singapore]  \n",
       "No. 5              [5 Emerald Hill Road, Singapore 229289, Singap...  "
      ]
     },
     "execution_count": 8,
     "metadata": {},
     "output_type": "execute_result"
    }
   ],
   "source": [
    "# Set offset\n",
    "lat = [1.3006]\n",
    "long = [103.8399]\n",
    "offset = np.arange(0,500,50)\n",
    "\n",
    "# Create list of tuples of combination between coordinate and offset\n",
    "tuples = list(product(lat,long,offset))\n",
    "\n",
    "# Use a for loop, store results into list of lists, turn into DataFrame\n",
    "# Empty List\n",
    "listings = []\n",
    "\n",
    "# Define columns of dataframe\n",
    "cols = ['id','alias','name','is_closed','review_count','rating','categories','longitude','latitude','price','address']\n",
    "\n",
    "\n",
    "# For loop\n",
    "for lat, long, step in tuples:\n",
    "    search_parameters = {'latitude': lat,\n",
    "                         'longitude' : long,\n",
    "                         'limit': 50,\n",
    "                         'radius': 800,\n",
    "                         'offset': step}\n",
    "    resp = requests.get(url, headers = headers, params = search_parameters)\n",
    "    raw_data = resp.json()\n",
    "    for business in raw_data['businesses']:\n",
    "        id = business['id']\n",
    "        alias = business['alias']\n",
    "        name = business['name']\n",
    "        is_closed = business['is_closed']\n",
    "        review_count = business['review_count']\n",
    "        rating = business['rating']\n",
    "        categories = business['categories']\n",
    "        latitude = business['coordinates']['latitude']\n",
    "        longitude = business['coordinates']['longitude']\n",
    "        #price = business['price']\n",
    "        address = business['location']['display_address'] \n",
    "        listings.append([id,alias,name,is_closed,review_count,rating,categories,latitude,longitude,price,address])\n",
    "    df = pd.DataFrame.from_records(listings, index='name', columns=cols)\n",
    "print(f'Total Records: {len(df)}')\n",
    "df.head()"
   ]
  },
  {
   "cell_type": "code",
   "execution_count": 9,
   "id": "b627612d-15e6-4a4d-ada7-333a25650ab6",
   "metadata": {},
   "outputs": [
    {
     "name": "stdout",
     "output_type": "stream",
     "text": [
      "<class 'pandas.core.frame.DataFrame'>\n",
      "Index: 500 entries, Ippudo to Toast Box\n",
      "Data columns (total 10 columns):\n",
      " #   Column        Non-Null Count  Dtype  \n",
      "---  ------        --------------  -----  \n",
      " 0   id            500 non-null    object \n",
      " 1   alias         500 non-null    object \n",
      " 2   is_closed     500 non-null    bool   \n",
      " 3   review_count  500 non-null    int64  \n",
      " 4   rating        500 non-null    float64\n",
      " 5   categories    500 non-null    object \n",
      " 6   longitude     500 non-null    float64\n",
      " 7   latitude      500 non-null    float64\n",
      " 8   price         500 non-null    object \n",
      " 9   address       500 non-null    object \n",
      "dtypes: bool(1), float64(3), int64(1), object(5)\n",
      "memory usage: 39.6+ KB\n"
     ]
    }
   ],
   "source": [
    "df.info()"
   ]
  },
  {
   "cell_type": "code",
   "execution_count": 10,
   "id": "2a189a1d-8de4-4505-b8d5-d30d16d6386a",
   "metadata": {},
   "outputs": [
    {
     "data": {
      "text/html": [
       "<div>\n",
       "<style scoped>\n",
       "    .dataframe tbody tr th:only-of-type {\n",
       "        vertical-align: middle;\n",
       "    }\n",
       "\n",
       "    .dataframe tbody tr th {\n",
       "        vertical-align: top;\n",
       "    }\n",
       "\n",
       "    .dataframe thead th {\n",
       "        text-align: right;\n",
       "    }\n",
       "</style>\n",
       "<table border=\"1\" class=\"dataframe\">\n",
       "  <thead>\n",
       "    <tr style=\"text-align: right;\">\n",
       "      <th></th>\n",
       "      <th>review_count</th>\n",
       "      <th>rating</th>\n",
       "      <th>longitude</th>\n",
       "      <th>latitude</th>\n",
       "    </tr>\n",
       "  </thead>\n",
       "  <tbody>\n",
       "    <tr>\n",
       "      <th>count</th>\n",
       "      <td>500.000000</td>\n",
       "      <td>500.000000</td>\n",
       "      <td>500.000000</td>\n",
       "      <td>500.000000</td>\n",
       "    </tr>\n",
       "    <tr>\n",
       "      <th>mean</th>\n",
       "      <td>7.372000</td>\n",
       "      <td>3.713000</td>\n",
       "      <td>1.301553</td>\n",
       "      <td>103.838694</td>\n",
       "    </tr>\n",
       "    <tr>\n",
       "      <th>std</th>\n",
       "      <td>10.989593</td>\n",
       "      <td>0.644952</td>\n",
       "      <td>0.002325</td>\n",
       "      <td>0.003854</td>\n",
       "    </tr>\n",
       "    <tr>\n",
       "      <th>min</th>\n",
       "      <td>1.000000</td>\n",
       "      <td>2.000000</td>\n",
       "      <td>1.290170</td>\n",
       "      <td>103.819878</td>\n",
       "    </tr>\n",
       "    <tr>\n",
       "      <th>25%</th>\n",
       "      <td>2.000000</td>\n",
       "      <td>3.500000</td>\n",
       "      <td>1.300689</td>\n",
       "      <td>103.835830</td>\n",
       "    </tr>\n",
       "    <tr>\n",
       "      <th>50%</th>\n",
       "      <td>4.000000</td>\n",
       "      <td>3.500000</td>\n",
       "      <td>1.301286</td>\n",
       "      <td>103.838745</td>\n",
       "    </tr>\n",
       "    <tr>\n",
       "      <th>75%</th>\n",
       "      <td>8.000000</td>\n",
       "      <td>4.000000</td>\n",
       "      <td>1.302545</td>\n",
       "      <td>103.840286</td>\n",
       "    </tr>\n",
       "    <tr>\n",
       "      <th>max</th>\n",
       "      <td>125.000000</td>\n",
       "      <td>5.000000</td>\n",
       "      <td>1.308600</td>\n",
       "      <td>103.852000</td>\n",
       "    </tr>\n",
       "  </tbody>\n",
       "</table>\n",
       "</div>"
      ],
      "text/plain": [
       "       review_count      rating   longitude    latitude\n",
       "count    500.000000  500.000000  500.000000  500.000000\n",
       "mean       7.372000    3.713000    1.301553  103.838694\n",
       "std       10.989593    0.644952    0.002325    0.003854\n",
       "min        1.000000    2.000000    1.290170  103.819878\n",
       "25%        2.000000    3.500000    1.300689  103.835830\n",
       "50%        4.000000    3.500000    1.301286  103.838745\n",
       "75%        8.000000    4.000000    1.302545  103.840286\n",
       "max      125.000000    5.000000    1.308600  103.852000"
      ]
     },
     "execution_count": 10,
     "metadata": {},
     "output_type": "execute_result"
    }
   ],
   "source": [
    "df.describe()"
   ]
  },
  {
   "cell_type": "code",
   "execution_count": 11,
   "id": "ceb4f340-e500-4a11-8034-e5254ee0e4a8",
   "metadata": {},
   "outputs": [
    {
     "data": {
      "text/plain": [
       "name\n",
       "Ippudo                            ippudo-singapore-3\n",
       "Din Tai Fung                din-tai-fung-singapore-5\n",
       "Killiney Kopitiam      killiney-kopitiam-singapore-4\n",
       "Kazu Sumiyaki                kazu-sumiyaki-singapore\n",
       "No. 5                                 no-5-singapore\n",
       "                                   ...              \n",
       "Asian Foodmall              asian-foodmall-singapore\n",
       "Sabai                                sabai-singapore\n",
       "My Favourite Cafe        my-favourite-cafe-singapore\n",
       "Best Fries Forever    best-fries-forever-singapore-3\n",
       "Toast Box                     toast-box-singapore-20\n",
       "Name: alias, Length: 500, dtype: object"
      ]
     },
     "execution_count": 11,
     "metadata": {},
     "output_type": "execute_result"
    }
   ],
   "source": [
    "df['alias']"
   ]
  },
  {
   "cell_type": "markdown",
   "id": "1857bbe1-3759-4cfb-884f-3e66c59aee03",
   "metadata": {
    "tags": []
   },
   "source": [
    "### Loop of all pages "
   ]
  },
  {
   "cell_type": "code",
   "execution_count": 12,
   "id": "07862d1f-7865-461e-9402-5fbd7b8ddd34",
   "metadata": {},
   "outputs": [],
   "source": [
    "aliases = df['alias'].tolist()"
   ]
  },
  {
   "cell_type": "code",
   "execution_count": 13,
   "id": "f0d2ff61-03db-40a3-833a-e3a36b6e6ab3",
   "metadata": {},
   "outputs": [],
   "source": [
    "pages = np.arange(1, 3, 1)\n",
    "reviews_collected= []\n"
   ]
  },
  {
   "cell_type": "code",
   "execution_count": 14,
   "id": "0b3aedf0-b3b8-46c5-bcae-4dcf5c945569",
   "metadata": {},
   "outputs": [
    {
     "ename": "IndentationError",
     "evalue": "unexpected indent (<ipython-input-14-a5a24999e6f5>, line 3)",
     "output_type": "error",
     "traceback": [
      "\u001b[0;36m  File \u001b[0;32m\"<ipython-input-14-a5a24999e6f5>\"\u001b[0;36m, line \u001b[0;32m3\u001b[0m\n\u001b[0;31m    page=\"https://www.yelp.com/biz/\" + str(alias)\u001b[0m\n\u001b[0m    ^\u001b[0m\n\u001b[0;31mIndentationError\u001b[0m\u001b[0;31m:\u001b[0m unexpected indent\n"
     ]
    }
   ],
   "source": [
    "#for alias in aliases[2]:\n",
    "    \n",
    "    page=\"https://www.yelp.com/biz/\" + str(alias)\n",
    "    html_text = requests.get(page).text\n",
    "    soup = BeautifulSoup(html_text, 'lxml')\n",
    "    soup"
   ]
  },
  {
   "cell_type": "code",
   "execution_count": 15,
   "id": "ea11e03b-43eb-4917-912c-5190c3180721",
   "metadata": {},
   "outputs": [
    {
     "data": {
      "text/plain": [
       "<li class=\"margin-b5__09f24__pTvws border-color--default__09f24__NPAKY\"><div class=\"review__09f24__oHr9V border-color--default__09f24__NPAKY\"><div class=\"margin-b3__09f24__l9v5d border-color--default__09f24__NPAKY\"><div class=\"arrange__09f24__LDfbs gutter-auto__09f24__W9jlL border-color--default__09f24__NPAKY\"><div class=\"arrange-unit__09f24__rqHTg arrange-unit-fill__09f24__CUubG border-color--default__09f24__NPAKY\"><div aria-label=\"Momo B.\" class=\"border-color--default__09f24__NPAKY\" role=\"region\"><div class=\"arrange__09f24__LDfbs gutter-1-5__09f24__vMtpw vertical-align-middle__09f24__zU9sE border-color--default__09f24__NPAKY\"><div class=\"arrange-unit__09f24__rqHTg border-color--default__09f24__NPAKY\"><div class=\"avatar__09f24__thRcb border-color--default__09f24__NPAKY\"><div class=\"css-0 border-color--default__09f24__NPAKY\"><a class=\"css-1lwccx4\" href=\"/user_details?userid=mkbx55W8B8aPLgDqex7qgg\" target=\"_self\"><img alt=\"Photo of Momo B.\" class=\"css-xlzvdl\" draggable=\"true\" height=\"64\" loading=\"lazy\" src=\"https://s3-media0.fl.yelpcdn.com/photo/9jnlR7G1kgpmvI9LaIGWKA/60s.jpg\" srcset=\"https://s3-media0.fl.yelpcdn.com/photo/9jnlR7G1kgpmvI9LaIGWKA/ms.jpg 1.67x,https://s3-media0.fl.yelpcdn.com/photo/9jnlR7G1kgpmvI9LaIGWKA/120s.jpg 2.00x,https://s3-media0.fl.yelpcdn.com/photo/9jnlR7G1kgpmvI9LaIGWKA/90s.jpg 1.50x,https://s3-media0.fl.yelpcdn.com/photo/9jnlR7G1kgpmvI9LaIGWKA/168s.jpg 2.80x,https://s3-media0.fl.yelpcdn.com/photo/9jnlR7G1kgpmvI9LaIGWKA/180s.jpg 3.00x\" width=\"64\"/></a></div></div></div><div class=\"arrange-unit__09f24__rqHTg arrange-unit-fill__09f24__CUubG border-color--default__09f24__NPAKY\"><div class=\"user-passport-info border-color--default__09f24__NPAKY\"><span class=\"fs-block css-1iikwpv\" data-font-weight=\"bold\"><a class=\"css-1422juy\" href=\"/user_details?userid=mkbx55W8B8aPLgDqex7qgg\">Momo B.</a></span><div class=\"responsive-hidden-small__09f24__qQFtj border-color--default__09f24__NPAKY\"><div class=\"border-color--default__09f24__NPAKY\"><span class=\"css-1sufhje\">Paradise, NV</span></div></div></div><div class=\"margin-t0-5__09f24__gboxT border-color--default__09f24__NPAKY\"><div class=\"display--inline-block__09f24__fEDiJ border-color--default__09f24__NPAKY\"><div class=\"user-passport-stats__09f24__NQxB4 border-color--default__09f24__NPAKY\"><div aria-label=\"Friends\" class=\"display--inline-block__09f24__fEDiJ margin-r1__09f24__rN_ga border-color--default__09f24__NPAKY\"><span aria-hidden=\"true\" class=\"icon--16-friends-v2 css-1mrxdyn\"><svg class=\"icon_svg\" height=\"16\" width=\"16\"><path d=\"M11.231 1.25H4.769A3.523 3.523 0 001.25 4.77v6.46a3.523 3.523 0 003.519 3.52h6.462a3.524 3.524 0 003.519-3.52V4.77a3.523 3.523 0 00-3.519-3.52zm-6.462 1.5h6.462a2.022 2.022 0 012.019 2.02v6.223a8.71 8.71 0 00-2.218-1.177c.164-.395.249-.819.25-1.247V7.562a3.281 3.281 0 10-6.563 0v1.007c0 .428.085.852.249 1.247-.792.283-1.54.68-2.218 1.177V4.77a2.022 2.022 0 012.019-2.02zm5.012 5.82a1.781 1.781 0 01-3.562 0V7.561a1.781 1.781 0 013.562 0v1.007zm1.45 4.68H4.769a2.007 2.007 0 01-1.49-.668.415.415 0 01.15-.237 7.259 7.259 0 012.498-1.254 3.21 3.21 0 004.144.002c.907.25 1.756.676 2.5 1.252.076.06.129.143.15.237a2.007 2.007 0 01-1.49.668z\"></path></svg></span><span class=\"display--inline__09f24__c6N_k padding-l0-5__09f24__tBn3z border-color--default__09f24__NPAKY\"><span class=\"css-1bwnp89\" data-font-weight=\"semibold\">24</span></span></div><div aria-label=\"Reviews\" class=\"display--inline-block__09f24__fEDiJ margin-r1__09f24__rN_ga border-color--default__09f24__NPAKY\"><span aria-hidden=\"true\" class=\"icon--16-review-v2 css-1mrxdyn\"><svg class=\"icon_svg\" height=\"16\" width=\"16\"><path d=\"M11.231 14.75H4.769a3.524 3.524 0 01-3.519-3.52V4.77a3.523 3.523 0 013.519-3.52h6.462a3.523 3.523 0 013.519 3.52v6.46a3.523 3.523 0 01-3.519 3.52zm-6.462-12A2.022 2.022 0 002.75 4.77v6.46a2.022 2.022 0 002.019 2.02h6.462a2.022 2.022 0 002.019-2.02V4.77a2.022 2.022 0 00-2.019-2.02H4.769z\"></path><path d=\"M11.226 7.229a.5.5 0 00-.404-.341l-1.64-.239-.734-1.486a.522.522 0 00-.896 0L6.818 6.65l-1.64.239a.5.5 0 00-.277.853l1.187 1.156-.28 1.633a.5.5 0 00.725.528L8 10.286l1.467.772a.498.498 0 00.725-.528l-.28-1.633L11.1 7.741a.5.5 0 00.127-.512z\"></path></svg></span><span class=\"display--inline__09f24__c6N_k padding-l0-5__09f24__tBn3z border-color--default__09f24__NPAKY\"><span class=\"css-1bwnp89\" data-font-weight=\"semibold\">292</span></span></div><div aria-label=\"Photos\" class=\"display--inline-block__09f24__fEDiJ margin-r1__09f24__rN_ga border-color--default__09f24__NPAKY\"><span aria-hidden=\"true\" class=\"icon--16-photos-v2 css-1mrxdyn\"><svg class=\"icon_svg\" height=\"16\" width=\"16\"><path d=\"M5.076 6.674a1.5 1.5 0 100-3 1.5 1.5 0 000 3z\"></path><path d=\"M11.231 1.25H4.769A3.523 3.523 0 001.25 4.77v6.46c.002.441.087.878.252 1.287l-.003.003.005.005a3.519 3.519 0 003.265 2.225h6.462a3.524 3.524 0 003.519-3.52V4.77a3.523 3.523 0 00-3.519-3.52zM2.75 11.23V4.77a2.022 2.022 0 012.019-2.02h6.462a2.022 2.022 0 012.019 2.02v4.096l-1.363-1.08a4.097 4.097 0 00-5.3.163l-3.822 3.433c-.004-.05-.015-.1-.015-.152zm8.481 2.02H4.769a2 2 0 01-1.298-.486l4.118-3.7a2.6 2.6 0 013.365-.103l2.296 1.82v.45a2.022 2.022 0 01-2.019 2.019z\"></path></svg></span><span class=\"display--inline__09f24__c6N_k padding-l0-5__09f24__tBn3z border-color--default__09f24__NPAKY\"><span class=\"css-1bwnp89\" data-font-weight=\"semibold\">9553</span></span></div></div></div></div></div></div></div></div><div class=\"arrange-unit__09f24__rqHTg border-color--default__09f24__NPAKY\"><div class=\"inline__09f24__fRMfs\"><div class=\"\" role=\"presentation\"><div><div class=\"menu-popover-container__09f24__JN_XM display--inline-block__09f24__fEDiJ border-color--default__09f24__NPAKY\"><button aria-expanded=\"false\" aria-haspopup=\"true\" class=\"css-rigrq3\" data-activated=\"false\" data-button=\"true\" type=\"submit\" value=\"submit\"><span class=\"css-1enow5j\" data-font-weight=\"semibold\"><span aria-hidden=\"false\" aria-label=\"Menu\" class=\"icon--24-more-v2 css-12y3mxl\" role=\"img\"><svg class=\"icon_svg\" height=\"24\" width=\"24\"><path d=\"M12 13.5a1.5 1.5 0 100-3 1.5 1.5 0 000 3zm8 0a1.5 1.5 0 100-3 1.5 1.5 0 000 3zm-16 0a1.5 1.5 0 100-3 1.5 1.5 0 000 3z\"></path></svg></span></span></button></div></div></div></div></div></div></div><div class=\"margin-t1__09f24__w96jn margin-b1-5__09f24__NHcQi border-color--default__09f24__NPAKY\"><div class=\"arrange__09f24__LDfbs gutter-1__09f24__yAbCL vertical-align-middle__09f24__zU9sE border-color--default__09f24__NPAKY\"><div class=\"arrange-unit__09f24__rqHTg border-color--default__09f24__NPAKY\"><span class=\"display--inline__09f24__c6N_k border-color--default__09f24__NPAKY\"><div aria-label=\"5 star rating\" class=\"i-stars__09f24__foihJ i-stars--regular-5__09f24__fJwXW border-color--default__09f24__NPAKY overflow--hidden__09f24___ayzG\" role=\"img\"><img alt=\"\" class=\"offscreen__09f24__gZT9P\" height=\"560\" src=\"https://s3-media0.fl.yelpcdn.com/assets/public/stars_v2.yji-59bbc2cf8e3d4be04fcc.png\" width=\"132\"/></div></span></div><div class=\"arrange-unit__09f24__rqHTg arrange-unit-fill__09f24__CUubG border-color--default__09f24__NPAKY\"><span class=\"css-1e4fdj9\">8/21/2019</span></div></div></div><div class=\"margin-b2__09f24__CEMjT border-color--default__09f24__NPAKY\"><p class=\"comment__09f24__gu0rG css-1sufhje\"><span class=\"raw__09f24__T4Ezm\" lang=\"en\">THIRD TIME A CHARM<br/><br/>I've dined at Ippudo first in New York and second in Hong Kong. Singapore is my favorite. Like any good restaurant in SG, there is wait line for a table. Early before opening or later11 after 8:15 p.m. there is a lesser wait time.<br/><br/>The hakata ramen and well seasoned pork broth is savory perfection.<br/><br/>The interior is smartly decorated with a dominate crystal chandelier as its center piece. Service is quick and disciplined to a perfection. Waitstaff are incredibly efficient in turning tables.<br/><br/>Located @Mandarin Gallery. Closest MRT Station Somerset NS23.</span></p></div><div class=\"arrange__09f24__LDfbs vertical-align-middle__09f24__zU9sE border-color--default__09f24__NPAKY\"><div class=\"arrange-unit__09f24__rqHTg arrange-unit-fill__09f24__CUubG border-color--default__09f24__NPAKY\"><span class=\"display--inline__09f24__c6N_k margin-r1-5__09f24__ot4bd border-color--default__09f24__NPAKY\"><button class=\"button__09f24__x2pTP css-gsky\" data-activated=\"false\" data-button=\"true\" type=\"submit\" value=\"submit\"><span class=\"css-inq9gi\" data-font-weight=\"semibold\"><div class=\"arrange__09f24__LDfbs gutter-0-5__09f24__PjGWv vertical-align-middle__09f24__zU9sE border-color--default__09f24__NPAKY\"><div class=\"arrange-unit__09f24__rqHTg border-color--default__09f24__NPAKY\"><span aria-hidden=\"true\" class=\"icon--16-useful-v2 css-1c2abjj\"><svg class=\"icon_svg\" height=\"16\" width=\"16\"><path d=\"M8 14.75A6.75 6.75 0 1114.75 8 6.758 6.758 0 018 14.75zm0-12A5.25 5.25 0 1013.25 8 5.256 5.256 0 008 2.75z\"></path><path d=\"M11.25 7.2a3.25 3.25 0 10-5 2.73v.87a1.251 1.251 0 001.25 1.25h1a1.251 1.251 0 001.25-1.25v-.87a3.243 3.243 0 001.5-2.73zM8 8.95a1.75 1.75 0 110-3.5 1.75 1.75 0 010 3.5z\"></path></svg></span></div><div class=\"arrange-unit__09f24__rqHTg arrange-unit-fill__09f24__CUubG border-color--default__09f24__NPAKY\"><span class=\"display--inline__09f24__c6N_k border-color--default__09f24__NPAKY\"><span class=\"css-1rw3tz3\">Useful<span class=\"css-1lr1m88\" data-font-weight=\"bold\"> <!-- -->11</span></span></span></div></div></span></button></span><span class=\"display--inline__09f24__c6N_k margin-r1-5__09f24__ot4bd border-color--default__09f24__NPAKY\"><button class=\"button__09f24__x2pTP css-gsky\" data-activated=\"false\" data-button=\"true\" type=\"submit\" value=\"submit\"><span class=\"css-inq9gi\" data-font-weight=\"semibold\"><div class=\"arrange__09f24__LDfbs gutter-0-5__09f24__PjGWv vertical-align-middle__09f24__zU9sE border-color--default__09f24__NPAKY\"><div class=\"arrange-unit__09f24__rqHTg border-color--default__09f24__NPAKY\"><span aria-hidden=\"true\" class=\"icon--16-funny-v2 css-1c2abjj\"><svg class=\"icon_svg\" height=\"16\" width=\"16\"><path d=\"M8 14.75A6.75 6.75 0 1114.75 8 6.758 6.758 0 018 14.75zm0-12A5.25 5.25 0 1013.25 8 5.256 5.256 0 008 2.75zm.706 4.65a1.1 1.1 0 112.2 0m-5.812 0a1.1 1.1 0 112.2 0\"></path><path d=\"M4.572 9a.151.151 0 00-.147.176 3.62 3.62 0 007.15 0A.151.151 0 0011.428 9H4.572z\"></path></svg></span></div><div class=\"arrange-unit__09f24__rqHTg arrange-unit-fill__09f24__CUubG border-color--default__09f24__NPAKY\"><span class=\"display--inline__09f24__c6N_k border-color--default__09f24__NPAKY\"><span class=\"css-1rw3tz3\">Funny<span class=\"css-1lr1m88\" data-font-weight=\"bold\"> <!-- -->8</span></span></span></div></div></span></button></span><span class=\"display--inline__09f24__c6N_k margin-r1-5__09f24__ot4bd border-color--default__09f24__NPAKY\"><button class=\"button__09f24__x2pTP css-gsky\" data-activated=\"false\" data-button=\"true\" type=\"submit\" value=\"submit\"><span class=\"css-inq9gi\" data-font-weight=\"semibold\"><div class=\"arrange__09f24__LDfbs gutter-0-5__09f24__PjGWv vertical-align-middle__09f24__zU9sE border-color--default__09f24__NPAKY\"><div class=\"arrange-unit__09f24__rqHTg border-color--default__09f24__NPAKY\"><span aria-hidden=\"true\" class=\"icon--16-cool-v2 css-1c2abjj\"><svg class=\"icon_svg\" height=\"16\" width=\"16\"><path d=\"M8 14.75A6.75 6.75 0 1114.75 8 6.758 6.758 0 018 14.75zm0-12A5.25 5.25 0 1013.25 8 5.256 5.256 0 008 2.75z\"></path><path d=\"M3.513 6.98l.506 1.518a1.772 1.772 0 003.363 0l.17-.51a.473.473 0 01.896 0l.17.51a1.772 1.772 0 003.363 0l.506-1.518a.256.256 0 00-.243-.336H3.756a.255.255 0 00-.243.336zm1.907 3.369a.149.149 0 00-.157.234A3.432 3.432 0 008 12.035a3.431 3.431 0 002.737-1.452.148.148 0 00-.158-.234 9.75 9.75 0 01-5.158 0z\"></path></svg></span></div><div class=\"arrange-unit__09f24__rqHTg arrange-unit-fill__09f24__CUubG border-color--default__09f24__NPAKY\"><span class=\"display--inline__09f24__c6N_k border-color--default__09f24__NPAKY\"><span class=\"css-1rw3tz3\">Cool<span class=\"css-1lr1m88\" data-font-weight=\"bold\"> <!-- -->12</span></span></span></div></div></span></button></span></div></div></div></li>"
      ]
     },
     "execution_count": 15,
     "metadata": {},
     "output_type": "execute_result"
    }
   ],
   "source": [
    "page=\"https://www.yelp.com/biz/ippudo-singapore-3\"\n",
    "html_text = requests.get(page).text\n",
    "soup = BeautifulSoup(html_text, 'lxml')\n",
    "reviews = soup.find('li', class_='margin-b5__09f24__pTvws border-color--default__09f24__NPAKY')\n",
    "reviews"
   ]
  },
  {
   "cell_type": "code",
   "execution_count": 24,
   "id": "9c3abd42-0c45-4122-a81c-b098d1e17e17",
   "metadata": {},
   "outputs": [
    {
     "data": {
      "text/plain": [
       "\"THIRD TIME A CHARMI've dined at Ippudo first in New York and second in Hong Kong. Singapore is my favorite. Like any good restaurant in SG, there is wait line for a table. Early before opening or later11 after 8:15 p.m. there is a lesser wait time.The hakata ramen and well seasoned pork broth is savory perfection.The interior is smartly decorated with a dominate crystal chandelier as its center piece. Service is quick and disciplined to a perfection. Waitstaff are incredibly efficient in turning tables.Located @Mandarin Gallery. Closest MRT Station Somerset NS23.\""
      ]
     },
     "execution_count": 24,
     "metadata": {},
     "output_type": "execute_result"
    }
   ],
   "source": [
    "reviews = text.find_all('div', attrs={'class':'review__09f24__oHr9V border-color--default__09f24__NPAKY'})\n",
    "review = reviews[0]\n",
    "\n",
    "username = review.find('a', attrs={'class':'css-1422juy'})\n",
    "username\n",
    "\n",
    "content = review.find('p').get_text()\n",
    "content"
   ]
  },
  {
   "cell_type": "code",
   "execution_count": 25,
   "id": "43f43622-b640-4a76-b013-506c85dd1a7f",
   "metadata": {},
   "outputs": [
    {
     "name": "stdout",
     "output_type": "stream",
     "text": [
      "5.0\n"
     ]
    }
   ],
   "source": [
    "#Rating\n",
    "rating = review.find('div', attrs={'class':'i-stars__09f24__foihJ i-stars--regular-5__09f24__fJwXW border-color--default__09f24__NPAKY overflow--hidden__09f24___ayzG'}).get('aria-label')\n",
    "rating = float(re.findall('\\d+', rating)[0])\n",
    "print(rating)"
   ]
  },
  {
   "cell_type": "code",
   "execution_count": 26,
   "id": "7bad6dfc-a459-41e0-b7c3-d106abbce7da",
   "metadata": {},
   "outputs": [
    {
     "data": {
      "text/plain": [
       "'8/21/2019'"
      ]
     },
     "execution_count": 26,
     "metadata": {},
     "output_type": "execute_result"
    }
   ],
   "source": [
    "date = review.find('span', attrs={'class':'css-1e4fdj9'}).get_text()\n",
    "date"
   ]
  },
  {
   "cell_type": "markdown",
   "id": "18744d6f-dd30-4016-9060-c174b1b10e71",
   "metadata": {},
   "source": [
    "useful_count = review.find('span', attrs={'class':'css-1rw3tz3'}).get_text()\n",
    "useful_count = int(re.findall('\\d+', useful_count)[0])\n",
    "useful_count"
   ]
  },
  {
   "cell_type": "markdown",
   "id": "ea0c9293-d791-48fc-b766-af6544acae76",
   "metadata": {},
   "source": [
    "useful_count = review.find('span', attrs={'class':' css-1lr1m88'}).get_text()\n",
    "useful_count = int(re.findall('\\d+', useful_count)[0])\n",
    "useful_count"
   ]
  },
  {
   "cell_type": "markdown",
   "id": "bbf3b47a-d93b-47a6-a2b6-d5f3feddad03",
   "metadata": {},
   "source": [
    "useful_counts = review.find_all('span', attrs={'class':'css-1rw3tz3'})\n",
    "useful_count[0].get_text()\n",
    "useful_count[1].get_text()\n",
    "useful_count[2].get_text()"
   ]
  },
  {
   "cell_type": "markdown",
   "id": "6f779b28-5962-48fb-9bee-fadd56e13cf0",
   "metadata": {},
   "source": [
    "### Apply to all the reviews and save them to a csv file."
   ]
  },
  {
   "cell_type": "code",
   "execution_count": 198,
   "id": "c40be821-a664-4825-8aa1-c902cd513e56",
   "metadata": {},
   "outputs": [],
   "source": [
    "url_list = []\n",
    "for alias in aliases[:2]:\n",
    "    response = requests.get('https://www.yelp.com/biz/'+str(alias))\n",
    "    text = BeautifulSoup(response.text, 'html.parser')\n",
    "    try:\n",
    "        num_reviews = text.find('span', attrs={'class': 'css-1yy09vp'}).string\n",
    "        num_reviews = int(re.findall('\\d+', num_reviews)[0])\n",
    "    except:\n",
    "        num_reviews = 0\n",
    "    for i in range(0, num_reviews, 10):\n",
    "        url_list.append('https://www.yelp.com/biz/'+str(alias)+'?start='+str(i))"
   ]
  },
  {
   "cell_type": "code",
   "execution_count": 217,
   "id": "2d32c8ff-d991-4da1-87fa-41f22cd367e6",
   "metadata": {},
   "outputs": [
    {
     "data": {
      "text/plain": [
       "'din-tai-fung-singapore-5'"
      ]
     },
     "execution_count": 217,
     "metadata": {},
     "output_type": "execute_result"
    }
   ],
   "source": [
    "alias"
   ]
  },
  {
   "cell_type": "code",
   "execution_count": 16,
   "id": "042fc322-5791-40f5-b016-9de979eb4589",
   "metadata": {},
   "outputs": [],
   "source": [
    "response = requests.get('https://www.yelp.com/biz/ippudo-singapore-3')\n",
    "text = BeautifulSoup(response.text, 'html.parser')"
   ]
  },
  {
   "cell_type": "code",
   "execution_count": 39,
   "id": "a39a18f9-a087-4836-913d-cfc8657bd25c",
   "metadata": {},
   "outputs": [
    {
     "name": "stdout",
     "output_type": "stream",
     "text": [
      "79\n"
     ]
    }
   ],
   "source": [
    "num_reviews = text.find('span', attrs={'class': 'css-1yy09vp'}).string\n",
    "num_reviews = int(re.findall('\\d+', num_reviews)[0])\n",
    "print(num_reviews)"
   ]
  },
  {
   "cell_type": "code",
   "execution_count": 121,
   "id": "03b8dac5-b99c-455f-8435-d0d2adf19197",
   "metadata": {},
   "outputs": [
    {
     "name": "stdout",
     "output_type": "stream",
     "text": [
      "['https://www.yelp.com/biz/ippudo-singapore-3?start=0', 'https://www.yelp.com/biz/ippudo-singapore-3?start=10', 'https://www.yelp.com/biz/ippudo-singapore-3?start=20', 'https://www.yelp.com/biz/ippudo-singapore-3?start=30', 'https://www.yelp.com/biz/ippudo-singapore-3?start=40']\n"
     ]
    }
   ],
   "source": [
    "url_list = []\n",
    "for i in range(0, num_reviews, 10):\n",
    "    url_list.append('https://www.yelp.com/biz/ippudo-singapore-3?start='+str(i))\n",
    "print(url_list[:5])"
   ]
  },
  {
   "cell_type": "code",
   "execution_count": 206,
   "id": "6f7afe74-12c5-4789-bbd0-35d93937c5e0",
   "metadata": {},
   "outputs": [
    {
     "name": "stdout",
     "output_type": "stream",
     "text": [
      "Finished page 1\n",
      "Finished page 2\n",
      "Finished page 3\n",
      "Finished page 4\n",
      "Finished page 5\n",
      "Finished page 6\n",
      "Finished page 7\n",
      "Finished page 8\n",
      "Finished page 9\n",
      "Finished page 10\n",
      "Finished page 11\n",
      "Finished page 12\n",
      "Finished page 13\n",
      "Finished page 14\n",
      "Finished page 15\n",
      "Finished page 16\n",
      "Finished page 17\n",
      "Finished page 18\n",
      "Finished page 19\n",
      "Finished page 20\n",
      "Finished page 21\n"
     ]
    }
   ],
   "source": [
    "import csv\n",
    "import time \n",
    "import random\n",
    "\n",
    "# scrape single page\n",
    "def scrape_single_page(reviews, csvwriter):\n",
    "    for review in reviews:\n",
    "        dic = {}\n",
    "        username = review.find('a', attrs={'class':'css-1422juy'}).string\n",
    "        userid = str(review.find('a', attrs={'class':'css-1422juy'}))\n",
    "        userid = re.search(r'((?<=userid=).*?(?=\\\"))', userid)\n",
    "        date = review.find('span', attrs={'class':'css-1e4fdj9'}).get_text()\n",
    "        content = review.find('p').get_text()\n",
    "\n",
    "        try:\n",
    "            rating = re.findall(r'\\S+',review.find('div',{\"role\":\"img\"}).get(\"aria-label\"))[0]\n",
    "        except: rating = None\n",
    "\n",
    "        # Assign values to the dictionary\n",
    "        dic['username'] = username\n",
    "        dic['userid'] = userid[1]\n",
    "        dic['date'] = date\n",
    "        dic['content'] = content\n",
    "        dic['rating'] = rating\n",
    "        review_writer.writerow(dic.values())\n",
    "        \n",
    "with open('reviews.csv', 'w', encoding = 'utf-8', newline='') as csvfile:\n",
    "    review_writer = csv.writer(csvfile)\n",
    "    for index, url in enumerate(url_list):\n",
    "        response = requests.get(url).text\n",
    "        soup = BeautifulSoup(response, 'html.parser')\n",
    "        reviews = soup.find_all('div', attrs={'class':'review__09f24__oHr9V border-color--default__09f24__NPAKY'})\n",
    "        scrape_single_page(reviews,review_writer)\n",
    "        # Random sleep to avoid getting banned from the server\n",
    "        time.sleep(random.randint(1,3))\n",
    "        # Log the progress\n",
    "        print('Finished page ' + str(index + 1))\n",
    "            "
   ]
  },
  {
   "cell_type": "code",
   "execution_count": 248,
   "id": "558fb349-7b21-42ae-b937-e74379120be7",
   "metadata": {},
   "outputs": [],
   "source": [
    "header = ['username','userid','businessid','comment_date','comment_text','rating']"
   ]
  },
  {
   "cell_type": "code",
   "execution_count": 249,
   "id": "47f12e7d-e642-456e-92ab-d92d31f00684",
   "metadata": {},
   "outputs": [
    {
     "name": "stdout",
     "output_type": "stream",
     "text": [
      "Finished page 1\n",
      "Finished page 2\n",
      "Finished page 3\n",
      "Finished page 4\n",
      "Finished page 5\n",
      "Finished page 6\n",
      "Finished page 7\n",
      "Finished page 8\n",
      "Finished page 9\n",
      "Finished page 10\n",
      "Finished page 11\n",
      "Finished page 12\n",
      "Finished page 13\n",
      "Finished page 14\n",
      "Finished page 15\n",
      "Finished page 16\n",
      "Finished page 17\n",
      "Finished page 18\n",
      "Finished page 19\n",
      "Finished page 20\n",
      "Finished page 21\n"
     ]
    }
   ],
   "source": [
    "# scrape single page\n",
    "def scrape_single_page(reviews,ids, csvwriter):\n",
    "    for review in reviews:\n",
    "        dic = {}\n",
    "        username = review.find('a', attrs={'class':'css-1422juy'}).string\n",
    "        userid = str(review.find('a', attrs={'class':'css-1422juy'}))\n",
    "        userid = re.search(r'((?<=userid=).*?(?=\\\"))', userid)\n",
    "        \n",
    "        businessid = str(ids[1].find('a', attrs={'class':'css-1clzr6h'}))\n",
    "        businessid = re.search(r'((?<=photos/).*?(?=/upload))', businessid)\n",
    "        \n",
    "        date = review.find('span', attrs={'class':'css-1e4fdj9'}).get_text()\n",
    "        try:\n",
    "            content = review.find('span', {\"lang\":\"en\"}).getText()\n",
    "        except: content = None\n",
    "\n",
    "        try:\n",
    "            rating = re.findall(r'\\S+',review.find('div',{\"role\":\"img\"}).get(\"aria-label\"))[0]\n",
    "        except: rating = None\n",
    "\n",
    "        # Assign values to the dictionary\n",
    "        dic['username'] = username\n",
    "        dic['userid'] = userid[1]\n",
    "        dic['businessid'] = businessid[1]\n",
    "        dic['date'] = date\n",
    "        dic['content'] = content\n",
    "        dic['rating'] = rating\n",
    "        review_writer.writerow(dic.values())\n",
    "        \n",
    "def scrape_business_id(ids, csvwriter):\n",
    "        dic = {}\n",
    "        \n",
    "        businessid = str(ids[1].find('a', attrs={'class':'css-1clzr6h'}))\n",
    "        businessid = re.search(r'((?<=photos/).*?(?=/upload))', businessid)\n",
    "        # Assign values to the dictionary\n",
    "        dic['businessid'] = businessid[1]\n",
    "        review_writer.writerow(dic.values())       \n",
    "        \n",
    "        \n",
    "with open('reviews.csv', 'w', encoding = 'utf-8', newline='') as csvfile:\n",
    "    review_writer = csv.writer(csvfile)\n",
    "    review_writer.writerow(header)\n",
    "    for index, url in enumerate(url_list):\n",
    "        response = requests.get(url).text\n",
    "        soup = BeautifulSoup(response, 'html.parser')\n",
    "        reviews = soup.find_all('div', attrs={'class':'review__09f24__oHr9V border-color--default__09f24__NPAKY'})\n",
    "        ids = soup.find_all('div', attrs={'class':'arrange-unit__09f24__rqHTg border-color--default__09f24__NPAKY nowrap__09f24__lBkC2'})\n",
    "        scrape_single_page(reviews,ids,review_writer)\n",
    "\n",
    "        # Random sleep to avoid getting banned from the server\n",
    "        time.sleep(random.randint(1,3))\n",
    "        # Log the progress\n",
    "        print('Finished page ' + str(index + 1))"
   ]
  },
  {
   "cell_type": "code",
   "execution_count": 245,
   "id": "cda21cf5-cb53-4620-9236-61685f83f890",
   "metadata": {
    "tags": []
   },
   "outputs": [
    {
     "data": {
      "text/plain": [
       "<re.Match object; span=(88, 110), match='mnaTW8Wm0ESJXf4qqDtS9A'>"
      ]
     },
     "execution_count": 245,
     "metadata": {},
     "output_type": "execute_result"
    }
   ],
   "source": [
    "ids = soup.find_all('div', attrs={'class':'arrange-unit__09f24__rqHTg border-color--default__09f24__NPAKY nowrap__09f24__lBkC2'})\n",
    "ids\n",
    "\n",
    "businessid = str(ids[1].find('a', attrs={'class':'css-1clzr6h'}))\n",
    "businessid = re.search(r'((?<=photos/).*?(?=/upload))', businessid)\n",
    "businessid"
   ]
  },
  {
   "cell_type": "code",
   "execution_count": 242,
   "id": "569292c9-ec1b-470a-b492-78c0aad24b52",
   "metadata": {},
   "outputs": [
    {
     "data": {
      "text/plain": [
       "<div class=\"arrange-unit__09f24__rqHTg border-color--default__09f24__NPAKY nowrap__09f24__lBkC2\"><a class=\"css-1clzr6h\" data-activated=\"false\" data-button=\"true\" href=\"/biz_user_photos/mnaTW8Wm0ESJXf4qqDtS9A/upload?source=desktop_biz_details_page\"><div class=\"css-110vchp border-color--default__09f24__NPAKY\"><div class=\"css-0 padding-r1__09f24__ibKww border-color--default__09f24__NPAKY\"><span aria-hidden=\"true\" class=\"icon--24-camera-v2 css-tza3mu\"><svg class=\"icon_svg\" height=\"24\" width=\"24\"><path d=\"M16 2a1 1 0 01.95.68L17.72 5H20a3 3 0 013 3v11a3 3 0 01-3 3H4a3 3 0 01-3-3V8a3 3 0 013-3h2.28l.77-2.32A1 1 0 018 2h8zm-.72 2H8.72L8 6.32A1 1 0 017 7H4a1 1 0 00-1 1v11a1 1 0 001 1h16a1 1 0 001-1V8a1 1 0 00-1-1h-3a1 1 0 01-.95-.68L15.28 4zM12 7.5a5.5 5.5 0 015.5 5.5 5.51 5.51 0 01-5.5 5.5 5.5 5.5 0 010-11zm0 2a3.5 3.5 0 100 7 3.5 3.5 0 000-7z\"></path></svg></span></div><div class=\"css-0 border-color--default__09f24__NPAKY\"><span class=\"css-1enow5j\" data-font-weight=\"semibold\">Add Photo</span></div></div></a></div>"
      ]
     },
     "execution_count": 242,
     "metadata": {},
     "output_type": "execute_result"
    }
   ],
   "source": [
    "ids[1]"
   ]
  },
  {
   "cell_type": "code",
   "execution_count": 16,
   "id": "2f4a8c60-5ac7-401c-a39b-1743052dd0d7",
   "metadata": {},
   "outputs": [],
   "source": [
    "response = requests.get('https://www.yelp.com/biz/ippudo-singapore-3')\n",
    "text = BeautifulSoup(response.text, 'html.parser')"
   ]
  },
  {
   "cell_type": "code",
   "execution_count": 39,
   "id": "e5d5793e-f5aa-42c8-b1d7-2eaeae28867c",
   "metadata": {},
   "outputs": [
    {
     "name": "stdout",
     "output_type": "stream",
     "text": [
      "79\n"
     ]
    }
   ],
   "source": [
    "num_reviews = text.find('span', attrs={'class': 'css-1yy09vp'}).string\n",
    "num_reviews = int(re.findall('\\d+', num_reviews)[0])\n",
    "print(num_reviews)"
   ]
  },
  {
   "cell_type": "code",
   "execution_count": 42,
   "id": "c3c96bb3-1236-447a-b7ea-c08b8518ee63",
   "metadata": {},
   "outputs": [
    {
     "name": "stdout",
     "output_type": "stream",
     "text": [
      "['https://www.yelp.com/biz/ippudo-singapore-3?start=0', 'https://www.yelp.com/biz/ippudo-singapore-3?start=10', 'https://www.yelp.com/biz/ippudo-singapore-3?start=20', 'https://www.yelp.com/biz/ippudo-singapore-3?start=30', 'https://www.yelp.com/biz/ippudo-singapore-3?start=40', 'https://www.yelp.com/biz/ippudo-singapore-3?start=50', 'https://www.yelp.com/biz/ippudo-singapore-3?start=60', 'https://www.yelp.com/biz/ippudo-singapore-3?start=70']\n"
     ]
    }
   ],
   "source": [
    "url_list = []\n",
    "for i in range(0, num_reviews, 10):\n",
    "    url_list.append('https://www.yelp.com/biz/ippudo-singapore-3?start='+str(i))\n",
    "print(url_list[:10])"
   ]
  },
  {
   "cell_type": "code",
   "execution_count": 237,
   "id": "27c83a7e-d767-444e-9e90-97eb8fbe202a",
   "metadata": {},
   "outputs": [],
   "source": [
    "businessid = str(id.find('a', attrs={'class':'css-1clzr6h'}))\n",
    "businessid = re.search(r'((?<=photos/).*?(?=/upload))', businessid)\n",
    "businessid"
   ]
  },
  {
   "cell_type": "code",
   "execution_count": 151,
   "id": "9b009a50-6790-4929-8ae3-a9b7ed37eba4",
   "metadata": {},
   "outputs": [],
   "source": [
    "response = requests.get('https://www.yelp.com/biz/ippudo-singapore-3?start=0').text\n",
    "soup = BeautifulSoup(response, 'html.parser')\n",
    "reviews = soup.find_all('div', attrs={'class':'review__09f24__oHr9V border-color--default__09f24__NPAKY'})"
   ]
  },
  {
   "cell_type": "code",
   "execution_count": 205,
   "id": "52aa5474-f6c1-4901-b8aa-13ecbcae0268",
   "metadata": {},
   "outputs": [
    {
     "data": {
      "text/plain": [
       "'5'"
      ]
     },
     "execution_count": 205,
     "metadata": {},
     "output_type": "execute_result"
    }
   ],
   "source": [
    "review\n",
    "\n",
    "test = re.findall(r'\\S+',review.find('div',{\"role\":\"img\"}).get(\"aria-label\"))[0]\n",
    "test"
   ]
  },
  {
   "cell_type": "code",
   "execution_count": 16,
   "id": "b9563768-8155-4840-8dac-2df453c8310c",
   "metadata": {},
   "outputs": [],
   "source": [
    "response = requests.get('https://www.yelp.com/biz/ippudo-singapore-3')\n",
    "text = BeautifulSoup(response.text, 'html.parser')"
   ]
  },
  {
   "cell_type": "code",
   "execution_count": 39,
   "id": "d1abb9f0-ec9a-429f-a9d4-93afd3106407",
   "metadata": {},
   "outputs": [
    {
     "name": "stdout",
     "output_type": "stream",
     "text": [
      "79\n"
     ]
    }
   ],
   "source": [
    "num_reviews = text.find('span', attrs={'class': 'css-1yy09vp'}).string\n",
    "num_reviews = int(re.findall('\\d+', num_reviews)[0])\n",
    "print(num_reviews)"
   ]
  },
  {
   "cell_type": "code",
   "execution_count": 42,
   "id": "99094c43-8db3-4bb1-a7fe-526089a19891",
   "metadata": {},
   "outputs": [
    {
     "name": "stdout",
     "output_type": "stream",
     "text": [
      "['https://www.yelp.com/biz/ippudo-singapore-3?start=0', 'https://www.yelp.com/biz/ippudo-singapore-3?start=10', 'https://www.yelp.com/biz/ippudo-singapore-3?start=20', 'https://www.yelp.com/biz/ippudo-singapore-3?start=30', 'https://www.yelp.com/biz/ippudo-singapore-3?start=40', 'https://www.yelp.com/biz/ippudo-singapore-3?start=50', 'https://www.yelp.com/biz/ippudo-singapore-3?start=60', 'https://www.yelp.com/biz/ippudo-singapore-3?start=70']\n"
     ]
    }
   ],
   "source": [
    "url_list = []\n",
    "for i in range(0, num_reviews, 10):\n",
    "    url_list.append('https://www.yelp.com/biz/ippudo-singapore-3?start='+str(i))\n",
    "print(url_list[:10])"
   ]
  },
  {
   "cell_type": "code",
   "execution_count": 173,
   "id": "a8140aef-28fa-496f-9f60-2bfdfc5d6c29",
   "metadata": {},
   "outputs": [
    {
     "data": {
      "text/plain": [
       "'5 star rating'"
      ]
     },
     "execution_count": 173,
     "metadata": {},
     "output_type": "execute_result"
    }
   ],
   "source": [
    "rating = review.find('div', attrs={'class':'i-stars__09f24__foihJ i-stars--regular-5__09f24__fJwXW border-color--default__09f24__NPAKY overflow--hidden__09f24___ayzG'}).get('aria-label')\n",
    "rating"
   ]
  },
  {
   "cell_type": "code",
   "execution_count": 16,
   "id": "a5891898-16b4-44fe-b2aa-f0bbcc834019",
   "metadata": {},
   "outputs": [],
   "source": [
    "response = requests.get('https://www.yelp.com/biz/ippudo-singapore-3')\n",
    "text = BeautifulSoup(response.text, 'html.parser')"
   ]
  },
  {
   "cell_type": "code",
   "execution_count": 39,
   "id": "057aea2b-dfc5-4a5c-b664-f78d8e591f93",
   "metadata": {},
   "outputs": [
    {
     "name": "stdout",
     "output_type": "stream",
     "text": [
      "79\n"
     ]
    }
   ],
   "source": [
    "num_reviews = text.find('span', attrs={'class': 'css-1yy09vp'}).string\n",
    "num_reviews = int(re.findall('\\d+', num_reviews)[0])\n",
    "print(num_reviews)"
   ]
  },
  {
   "cell_type": "code",
   "execution_count": 42,
   "id": "76056d87-a551-4aca-b9d3-e516fa6100df",
   "metadata": {},
   "outputs": [
    {
     "name": "stdout",
     "output_type": "stream",
     "text": [
      "['https://www.yelp.com/biz/ippudo-singapore-3?start=0', 'https://www.yelp.com/biz/ippudo-singapore-3?start=10', 'https://www.yelp.com/biz/ippudo-singapore-3?start=20', 'https://www.yelp.com/biz/ippudo-singapore-3?start=30', 'https://www.yelp.com/biz/ippudo-singapore-3?start=40', 'https://www.yelp.com/biz/ippudo-singapore-3?start=50', 'https://www.yelp.com/biz/ippudo-singapore-3?start=60', 'https://www.yelp.com/biz/ippudo-singapore-3?start=70']\n"
     ]
    }
   ],
   "source": [
    "url_list = []\n",
    "for i in range(0, num_reviews, 10):\n",
    "    url_list.append('https://www.yelp.com/biz/ippudo-singapore-3?start='+str(i))\n",
    "print(url_list[:10])"
   ]
  },
  {
   "cell_type": "code",
   "execution_count": 16,
   "id": "d2c6abd3-fb76-4163-9530-5ecc593b960e",
   "metadata": {},
   "outputs": [],
   "source": [
    "response = requests.get('https://www.yelp.com/biz/ippudo-singapore-3')\n",
    "text = BeautifulSoup(response.text, 'html.parser')"
   ]
  },
  {
   "cell_type": "code",
   "execution_count": 39,
   "id": "97d7148c-bae8-48b5-8676-f8fbe27a7fbf",
   "metadata": {},
   "outputs": [
    {
     "name": "stdout",
     "output_type": "stream",
     "text": [
      "79\n"
     ]
    }
   ],
   "source": [
    "num_reviews = text.find('span', attrs={'class': 'css-1yy09vp'}).string\n",
    "num_reviews = int(re.findall('\\d+', num_reviews)[0])\n",
    "print(num_reviews)"
   ]
  },
  {
   "cell_type": "code",
   "execution_count": 42,
   "id": "69140ea1-45f3-4b04-bc0e-681f33297872",
   "metadata": {},
   "outputs": [
    {
     "name": "stdout",
     "output_type": "stream",
     "text": [
      "['https://www.yelp.com/biz/ippudo-singapore-3?start=0', 'https://www.yelp.com/biz/ippudo-singapore-3?start=10', 'https://www.yelp.com/biz/ippudo-singapore-3?start=20', 'https://www.yelp.com/biz/ippudo-singapore-3?start=30', 'https://www.yelp.com/biz/ippudo-singapore-3?start=40', 'https://www.yelp.com/biz/ippudo-singapore-3?start=50', 'https://www.yelp.com/biz/ippudo-singapore-3?start=60', 'https://www.yelp.com/biz/ippudo-singapore-3?start=70']\n"
     ]
    }
   ],
   "source": [
    "url_list = []\n",
    "for i in range(0, num_reviews, 10):\n",
    "    url_list.append('https://www.yelp.com/biz/ippudo-singapore-3?start='+str(i))\n",
    "print(url_list[:10])"
   ]
  },
  {
   "cell_type": "code",
   "execution_count": null,
   "id": "5385f879-f18b-46fa-b252-78a14b78443e",
   "metadata": {},
   "outputs": [],
   "source": []
  }
 ],
 "metadata": {
  "kernelspec": {
   "display_name": "Python 3",
   "language": "python",
   "name": "python3"
  },
  "language_info": {
   "codemirror_mode": {
    "name": "ipython",
    "version": 3
   },
   "file_extension": ".py",
   "mimetype": "text/x-python",
   "name": "python",
   "nbconvert_exporter": "python",
   "pygments_lexer": "ipython3",
   "version": "3.8.8"
  }
 },
 "nbformat": 4,
 "nbformat_minor": 5
}
